{
 "cells": [
  {
   "cell_type": "code",
   "execution_count": 1,
   "id": "a6ef11a6-994e-46c2-bc60-68c244941c94",
   "metadata": {},
   "outputs": [],
   "source": [
    "import ApproxPH\n",
    "import numpy as np\n",
    "import matplotlib.pyplot as plt\n",
    "import seaborn as sns"
   ]
  },
  {
   "cell_type": "code",
   "execution_count": 6,
   "id": "388b7f77-bd91-45b6-b2d7-03c2a3a3658b",
   "metadata": {},
   "outputs": [],
   "source": [
    "def rotate_diag(diag):\n",
    "    new_diag = np.empty_like(diag)\n",
    "    for i in range(len(diag[:,0])):\n",
    "        new_diag[i,0] = diag[i,0]+diag[i,1]\n",
    "        new_diag[i,1] = diag[i,1]-diag[i,0]\n",
    "    return new_diag\n",
    "\n",
    "def inverse_rotate(diag):\n",
    "    new_diag = np.empty_like(diag)\n",
    "    for i in range(len(diag[:,0])):\n",
    "        new_diag[i,0] = 0.5*(diag[i,0]-diag[i,1])\n",
    "        new_diag[i,1] = 0.5*(diag[i,1]+diag[i,0])\n",
    "    return new_diag\n",
    "\n",
    "def empirical_mean(diag_list):\n",
    "    n = len(diag_list[0][:,0])\n",
    "    mean_diag = np.array([[0.,0.]]*n)\n",
    "    for i in range(n):\n",
    "        vec = []\n",
    "        for D in diag_list:\n",
    "            vec.append(list(D[i,:]))\n",
    "        mean_diag[i,:] = np.mean(np.array(vec),axis=0)\n",
    "    return mean_diag"
   ]
  },
  {
   "cell_type": "code",
   "execution_count": 16,
   "id": "edcc9cdd",
   "metadata": {
    "ExecuteTime": {
     "end_time": "2021-11-21T11:03:34.656866Z",
     "start_time": "2021-11-21T10:59:53.495462Z"
    }
   },
   "outputs": [
    {
     "name": "stdout",
     "output_type": "stream",
     "text": [
      "[[0.58195575 0.46244606]\n",
      " [0.94247593 0.83507386]]\n"
     ]
    }
   ],
   "source": [
    "# torus\n",
    "B = 20\n",
    "num_points = 4000\n",
    "cut_off = 0.3\n",
    "D_list = np.array([[0,0]])\n",
    "D_cut_list = np.array([[0,0]])\n",
    "diag_list = []\n",
    "\n",
    "for i in range(B):\n",
    "    X_torus = ApproxPH.sample_torus(num_points, 0.8, 0.3)\n",
    "    diag_torus = ApproxPH.get_PD(X_torus, min_persistence=0.1, max_edge_length=0.9)\n",
    "    y = diag_torus[:,1]\n",
    "    y[y==np.inf] = 0.9\n",
    "    diag_torus[:,1] = y \n",
    "    D = rotate_diag(diag_torus)\n",
    "    D_cut = D[D[:,1]>cut_off,:]\n",
    "    if len(D_cut[:,0])==0:\n",
    "        print(\"empty\")\n",
    "    diag_list.append(D_cut)\n",
    "    D_list = np.vstack((D_list,D))\n",
    "    D_cut_list = np.vstack((D_cut_list,D_cut))\n",
    "\n",
    "D_list = np.delete(D_list, (0), axis=0)\n",
    "D_cut_list = np.delete(D_cut_list, (0), axis=0)\n",
    "\n",
    "mean_diag = empirical_mean(diag_list)\n",
    "print(mean_diag)"
   ]
  },
  {
   "cell_type": "code",
   "execution_count": 26,
   "id": "97c3a2d9-9c66-4a5d-b78a-f0a06f8cbb8d",
   "metadata": {},
   "outputs": [
    {
     "name": "stdout",
     "output_type": "stream",
     "text": [
      "[[0.89780653 0.81875557]]\n"
     ]
    }
   ],
   "source": [
    "# circle\n",
    "B = 50\n",
    "num_points = 600\n",
    "cut_off = 0.2\n",
    "D_list = np.array([[0,0]])\n",
    "D_cut_list = np.array([[0,0]])\n",
    "diag_list = []\n",
    "\n",
    "for i in range(B):\n",
    "    X_ann = ApproxPH.sample_annulus(num_points, 0.5, 0.45)\n",
    "    diag_ann = ApproxPH.get_PD(X_ann, min_persistence=0.1, max_edge_length=1)\n",
    "    y = diag_ann[:,1]\n",
    "    y[y==np.inf] = 1\n",
    "    diag_ann[:,1] = y \n",
    "    D = rotate_diag(diag_ann)\n",
    "    D_cut = D[D[:,1]>cut_off,:]\n",
    "    if len(D_cut[:,0])==0:\n",
    "        print(\"empty\")\n",
    "    diag_list.append(D_cut)\n",
    "    D_list = np.vstack((D_list,D))\n",
    "    D_cut_list = np.vstack((D_cut_list,D_cut))\n",
    "\n",
    "D_list = np.delete(D_list, (0), axis=0)\n",
    "D_cut_list = np.delete(D_cut_list, (0), axis=0)\n",
    "\n",
    "mean_diag = empirical_mean(diag_list)\n",
    "print(mean_diag)"
   ]
  },
  {
   "cell_type": "code",
   "execution_count": 27,
   "id": "5f393b5d-ae7c-4be5-afa4-1d8eb21a11fa",
   "metadata": {},
   "outputs": [
    {
     "name": "stdout",
     "output_type": "stream",
     "text": [
      "[[0.03952548 0.85828105]]\n"
     ]
    }
   ],
   "source": [
    "print(inverse_rotate(mean_diag))"
   ]
  },
  {
   "cell_type": "code",
   "execution_count": 32,
   "id": "27ad286c-c2b5-4ae8-893b-43edab817c5d",
   "metadata": {},
   "outputs": [],
   "source": [
    "num_points = 700\n",
    "cut_off = 0.3\n",
    "\n",
    "def torus_variance(B):\n",
    "    diag_list = []\n",
    "    for i in range(B):\n",
    "        X_torus = ApproxPH.sample_torus(num_points, 0.8, 0.3)\n",
    "        diag_torus = ApproxPH.get_PD(X_torus, min_persistence=0.1, max_edge_length=0.9)\n",
    "        y = diag_torus[:,1]\n",
    "        y[y==np.inf] = 0.9\n",
    "        diag_torus[:,1] = y \n",
    "        D = rotate_diag(diag_torus)\n",
    "        D_cut = D[D[:,1]>cut_off,:]\n",
    "        diag_list.append(D_cut)\n",
    "    mean_diag = empirical_mean(diag_list)\n",
    "    variance = 0\n",
    "    for j in range(B):\n",
    "        variance += np.linalg.norm(mean_diag[0,:]-diag_list[j][0,:])**2+np.linalg.norm(mean_diag[1,:]-diag_list[j][1,:])**2\n",
    "    return variance"
   ]
  },
  {
   "cell_type": "code",
   "execution_count": 18,
   "id": "b17640b9-bef8-49da-821a-82ea21508310",
   "metadata": {},
   "outputs": [
    {
     "name": "stdout",
     "output_type": "stream",
     "text": [
      "480\n"
     ]
    }
   ],
   "source": [
    "X_torus = ApproxPH.sample_torus(10000, 0.8, 0.3)\n",
    "true_diag = ApproxPH.get_PD(X_torus, min_persistence=0.02, max_edge_length=0.9)\n",
    "y = true_diag[:,1]\n",
    "y[y==np.inf] = 0.9\n",
    "true_diag[:,1] = y \n",
    "print(len(true_diag[:,0]))"
   ]
  },
  {
   "cell_type": "code",
   "execution_count": 25,
   "id": "08c68a61-e5f2-4c3a-a2d5-f5ebd2503b41",
   "metadata": {},
   "outputs": [
    {
     "name": "stdout",
     "output_type": "stream",
     "text": [
      "[[0.01807184 0.02927205]\n",
      " [0.01881091 0.03092102]\n",
      " [0.01814811 0.03162544]\n",
      " [0.02450987 0.03642962]\n",
      " [0.02269377 0.87538766]]\n"
     ]
    }
   ],
   "source": [
    "X_ann = ApproxPH.sample_annulus(1000, 0.5, 0.45)\n",
    "true_diag = ApproxPH.get_PD(X_ann, min_persistence=0.01, max_edge_length=1)\n",
    "y = true_diag[:,1]\n",
    "y[y==np.inf] = 1\n",
    "true_diag[:,1] = y \n",
    "print(true_diag)"
   ]
  },
  {
   "cell_type": "code",
   "execution_count": 31,
   "id": "e222273f-0f9d-400a-9049-0ce52def933b",
   "metadata": {},
   "outputs": [],
   "source": [
    "num_points = 600\n",
    "cut_off = 0.2\n",
    "\n",
    "def ann_variance(B):\n",
    "    diag_list = []\n",
    "    for i in range(B):\n",
    "        X_ann = ApproxPH.sample_annulus(num_points, 0.5, 0.45)\n",
    "        diag_ann = ApproxPH.get_PD(X_ann, min_persistence=0.1, max_edge_length=1)\n",
    "        y = diag_ann[:,1]\n",
    "        y[y==np.inf] = 1\n",
    "        diag_ann[:,1] = y \n",
    "        D = rotate_diag(diag_ann)\n",
    "        D_cut = D[D[:,1]>cut_off,:]\n",
    "        diag_list.append(D_cut)\n",
    "    mean_diag = empirical_mean(diag_list)\n",
    "    variance = 0\n",
    "    for j in range(B):\n",
    "        variance += np.linalg.norm(mean_diag[0,:]-diag_list[j][0,:])**2\n",
    "    return variance"
   ]
  },
  {
   "cell_type": "code",
   "execution_count": 35,
   "id": "cd104b6d-a396-4fad-8950-984e33e8560e",
   "metadata": {},
   "outputs": [],
   "source": [
    "B_list = [i for i in range(1,100)]\n",
    "error_list = []\n",
    "exp_repeat = 2\n",
    "for B in B_list:\n",
    "    er = 0\n",
    "    for i in range(exp_repeat):\n",
    "        er+=ann_variance(B)/B\n",
    "    error_list.append(er/exp_repeat)"
   ]
  },
  {
   "cell_type": "code",
   "execution_count": 36,
   "id": "5413469b-6363-4183-8e43-57904997e5cd",
   "metadata": {},
   "outputs": [
    {
     "data": {
      "text/plain": [
       "[<matplotlib.lines.Line2D at 0x1a89e134a60>]"
      ]
     },
     "execution_count": 36,
     "metadata": {},
     "output_type": "execute_result"
    },
    {
     "data": {
      "image/png": "[encoded data removed]",
      "text/plain": [
       "<Figure size 400x400 with 1 Axes>"
      ]
     },
     "metadata": {},
     "output_type": "display_data"
    }
   ],
   "source": [
    "plt.figure(figsize=(4,4))\n",
    "plt.plot(B_list,error_list)"
   ]
  },
  {
   "cell_type": "code",
   "execution_count": 119,
   "id": "f4b8edaf",
   "metadata": {
    "ExecuteTime": {
     "end_time": "2021-11-21T11:12:00.563607Z",
     "start_time": "2021-11-21T11:11:58.322424Z"
    }
   },
   "outputs": [
    {
     "data": {
      "image/png": "[encoded data removed]",
      "text/plain": [
       "<Figure size 400x400 with 1 Axes>"
      ]
     },
     "metadata": {},
     "output_type": "display_data"
    }
   ],
   "source": [
    "plt.figure(figsize=(4, 4))\n",
    "\n",
    "plt.scatter(D_list[:,0],D_list[:,1],color=\"black\",s=5)\n",
    "cmap1 = sns.light_palette(\"red\", as_cmap=True)\n",
    "sns.kdeplot(x=D_list[:,0], y=D_list[:,1],bw_adjust=1,cmap=cmap1,multiple=\"fill\",fill=True,alpha=0.6)\n",
    "plt.axis([0.2,1.2,0.09,1])\n",
    "plt.xticks([0.2,0.7,1.2])\n",
    "plt.yticks([0.5,1])\n",
    "plt.savefig(\"torus_with_diag.png\",dpi=300)\n"
   ]
  },
  {
   "cell_type": "code",
   "execution_count": 135,
   "id": "7394e21d-10bf-421d-a233-5a0ddaa53836",
   "metadata": {},
   "outputs": [
    {
     "data": {
      "image/png": "[encoded data removed]",
      "text/plain": [
       "<Figure size 400x400 with 1 Axes>"
      ]
     },
     "metadata": {},
     "output_type": "display_data"
    }
   ],
   "source": [
    "from matplotlib.patches import Circle\n",
    "\n",
    "plt.figure(figsize=(4, 4))\n",
    "\n",
    "plt.scatter(D_cut_list[:,0],D_cut_list[:,1],color=\"black\",s=5)\n",
    "#cmap1 = sns.light_palette(\"red\", as_cmap=True)\n",
    "#sns.kdeplot(x=D_list[:,0], y=D_list[:,1],bw_adjust=1,cmap=cmap1,multiple=\"fill\",fill=True,alpha=0.6)\n",
    "plt.axis([0.2,1.2,0.09,1])\n",
    "plt.xticks([0.2,0.7,1.2])\n",
    "plt.yticks([0.5,1])\n",
    "\n",
    "x = D_cut_list[:,0]\n",
    "cluster1 = D_cut_list[x<0.8,:]\n",
    "cluster2 = D_cut_list[x>=0.8,:]\n",
    "\n",
    "x_center1 = np.mean(cluster1[:, 0])\n",
    "y_center1 = np.mean(cluster1[:, 1])\n",
    "radius = 0.05  \n",
    "circle = Circle((x_center1, y_center1), radius, linestyle='--', color='red', alpha=0.1)\n",
    "plt.gca().add_patch(circle)\n",
    "\n",
    "x_center2 = np.mean(cluster2[:, 0])\n",
    "y_center2 = np.mean(cluster2[:, 1])\n",
    "radius = 0.05  \n",
    "circle = Circle((x_center2, y_center2), radius, linestyle='--', color='blue', alpha=0.1)\n",
    "plt.gca().add_patch(circle)\n",
    "\n",
    "plt.axhline(y=0.3, color='green', linestyle='--', linewidth=0.5)\n",
    "    \n",
    "# Fill the region below the line\n",
    "plt.fill_betweenx(np.linspace(plt.gca().get_ylim()[0], 0.3, 100), plt.gca().get_xlim()[0], plt.gca().get_xlim()[1], color='gray', alpha=0.1)\n",
    "\n",
    "plt.savefig(\"torus_without_diag.png\",dpi=300)"
   ]
  },
  {
   "cell_type": "code",
   "execution_count": 5,
   "id": "ec236a92-a4ac-47e6-b8cd-3f2e8544d49b",
   "metadata": {},
   "outputs": [],
   "source": [
    "# annulus\n",
    "B = 60\n",
    "num_points = 1000\n",
    "cut_off = 0.3\n",
    "D_list = np.array([[0,0]])\n",
    "D_cut_list = np.array([[0,0]])\n",
    "\n",
    "for i in range(B):\n",
    "    X_torus = ApproxPH.sample_annulus(num_points, 0.8, 0.3)\n",
    "    diag_torus = ApproxPH.get_PD(X_torus, min_persistence=0.1, max_edge_length=0.9)\n",
    "    y = diag_torus[:,1]\n",
    "    y[y==np.inf] = 0.9\n",
    "    diag_torus[:,1] = y \n",
    "    D = rotate_diag(diag_torus)\n",
    "    D_cut = D[D[:,1]>cut_off,:]\n",
    "    D_list = np.vstack((D_list,D))\n",
    "    D_cut_list = np.vstack((D_cut_list,D_cut))\n",
    "\n",
    "D_list = np.delete(D_list, (0), axis=0)\n",
    "D_cut_list = np.delete(D_cut_list, (0), axis=0)"
   ]
  },
  {
   "cell_type": "code",
   "execution_count": 6,
   "id": "ee66d291",
   "metadata": {
    "ExecuteTime": {
     "end_time": "2021-11-22T08:48:51.641185Z",
     "start_time": "2021-11-22T08:48:48.325745Z"
    }
   },
   "outputs": [
    {
     "data": {
      "image/png": "[encoded data removed]",
      "text/plain": [
       "<Figure size 400x400 with 1 Axes>"
      ]
     },
     "metadata": {},
     "output_type": "display_data"
    }
   ],
   "source": [
    "plt.figure(figsize=(4, 4))\n",
    "\n",
    "plt.scatter(D_list[:,0],D_list[:,1],color=\"black\",s=5)\n",
    "cmap1 = sns.light_palette(\"red\", as_cmap=True)\n",
    "sns.kdeplot(x=D_list[:,0], y=D_list[:,1],bw_adjust=1,cmap=cmap1,multiple=\"fill\",fill=True,alpha=0.6)\n",
    "plt.axis([0.2,1.2,0.09,1])\n",
    "plt.xticks([0.2,0.7,1.2])\n",
    "plt.yticks([0.5,1])\n",
    "plt.savefig(\"annulus_with_diag.png\",dpi=300)"
   ]
  },
  {
   "cell_type": "markdown",
   "id": "9a6400f2",
   "metadata": {
    "ExecuteTime": {
     "end_time": "2021-11-24T16:15:08.256715Z",
     "start_time": "2021-11-24T16:15:08.245704Z"
    }
   },
   "source": [
    "# Comparison with the Fréchet mean method\n",
    "\n",
    "In this section, we compare the performance of mean persistence measure and Fréchet mean on a synthetic dataset sampled from an anulus. The performance is measured by the 2-Wasserstein distance between mean diagram/measure and the true persistence diagram."
   ]
  },
  {
   "cell_type": "code",
   "execution_count": 5,
   "id": "7f5385a5",
   "metadata": {
    "ExecuteTime": {
     "end_time": "2021-12-04T10:54:37.383106Z",
     "start_time": "2021-12-04T10:54:29.239344Z"
    }
   },
   "outputs": [],
   "source": [
    "# compute the true diagram\n",
    "nb_points = 5000\n",
    "true_set = ApproxPH.sample_annulus(nb_points, r1=0.2, r2=0.5)\n",
    "true_PD = ApproxPH.get_PD(true_set, max_edge_length=0.4, min_persistence=0.01)\n",
    "true_mesr, true_mesr_vis = ApproxPH.diag_to_mesr(true_PD, 1)"
   ]
  },
  {
   "cell_type": "code",
   "execution_count": null,
   "id": "8b3abc4f",
   "metadata": {
    "ExecuteTime": {
     "end_time": "2021-12-04T11:03:07.021998Z",
     "start_time": "2021-12-04T11:02:52.832006Z"
    }
   },
   "outputs": [],
   "source": [
    "# each time we draw 20 subsets from the true_set\n",
    "# each subset has number of points in nb_sub_points_list\n",
    "# we compute the 2-Wasserstein distance of mean persistence measure & Frechet mean to the true diagram\n",
    "\n",
    "# set parameters\n",
    "nb_subs = 20\n",
    "unit_mass  = 1/nb_samples\n",
    "nb_sub_points_list = [50,100,150,200,250,300,350,400]\n",
    "power_index = 2\n",
    "w_list = []\n",
    "permesr_list = []\n",
    "\n",
    "for nb_sub_points in nb_sub_points_list:\n",
    "    print('number of points in each subset: %d' %(nb_sub_points))\n",
    "    mean_mesr, mean_mesr_vis, wmean = compute_mean(original_set = true_set,\n",
    "                                            nb_subs = nb_subs,\n",
    "                                            nb_sub_points = nb_sub_points,\n",
    "                                            max_edge_length = 0.4,\n",
    "                                            min_persistence = 0.01,\n",
    "                                            scenario = 'both'\n",
    "                                           )\n",
    "    wmean_mesr, wmean_mesr_vis = ApproxPH.diag_to_mesr(wmean, 1)\n",
    "    # compute distance\n",
    "    grid = ApproxPH.mesh_gen()\n",
    "    Mp = ApproxPH.dist_mat(grid, power_index)\n",
    "    permesr_distance = ApproxPH.wass_dist(mean_mesr, true_mesr, Mp)\n",
    "    wmean_distance = ApproxPH.wass_dist(wmean_mesr, true_mesr, Mp)\n",
    "    permesr_list.append(permesr_distance**(1/power_index))\n",
    "    w_list.append(wmean_distance**(1/power_index))"
   ]
  },
  {
   "cell_type": "code",
   "execution_count": null,
   "id": "642a7b50",
   "metadata": {
    "ExecuteTime": {
     "end_time": "2021-12-04T11:08:40.984232Z",
     "start_time": "2021-12-04T11:08:40.862399Z"
    }
   },
   "outputs": [],
   "source": [
    "# visualize the comparison\n",
    "# plot mean persistence diagram\n",
    "fig = plt.figure(figsize=(8,8))\n",
    "plt.plot(nb_sub_points_list, permesr_list, linestyle='-', color='blue',\\\n",
    "         linewidth=2, label='Mean Persistence Measure')\n",
    "plt.scatter(nb_sub_points_list, permesr_list, s=70, color='red', marker='o')\n",
    "plt.plot(nb_sub_points_list, w_list, linestyle='--', color='green',\\\n",
    "         linewidth=2, label='Frechet Mean')\n",
    "plt.scatter(nb_sub_points_list, w_list, s=70, color='black', marker='P')\n",
    "plt.xlabel('Number of Points')\n",
    "plt.ylabel('2-Wasserstein distance')\n",
    "plt.title('Comparison of Frechet mean\\n and mean persistence measure')\n",
    "plt.legend()\n",
    "plt.show()"
   ]
  },
  {
   "cell_type": "markdown",
   "id": "68b49b91-3513-4cff-b900-1cc863866d0f",
   "metadata": {},
   "source": [
    "# PH approximation on massive data\n",
    "\n",
    "In this section, we compute the mean persistence measure and Fréchet mean for real large data. We collect two point clouds from the shape repository held by AIM@SHAPE project (http://visionair.ge.imati.cnr.it/ontologies/shapes/). The model IDs are *372-Grayloc_-_Smooth_and_watertight_version* (with 460592 vertices), and *378-knot_with_stars* (with 478704 vertices)."
   ]
  },
  {
   "cell_type": "code",
   "execution_count": null,
   "id": "f6b862af-b8bb-4ef4-96d8-c5e6e7682872",
   "metadata": {},
   "outputs": [],
   "source": [
    "# read point cloud data\n",
    "\n",
    "import numpy as np\n",
    "from plyfile import *\n",
    "\n",
    "pltdata = PlyData.read('data/grayloc.ply')\n",
    "# pltdata = PlyData.read('data/knot.ply')\n",
    "\n",
    "x = pltdata['vertex']['x']\n",
    "y = pltdata['vertex']['y']\n",
    "z = pltdata['vertex']['z']\n",
    "\n",
    "large_points = ApproxPH.rescale_points(np.array([x,y,z]).T)\n",
    "print(large_points.shape)"
   ]
  },
  {
   "cell_type": "code",
   "execution_count": null,
   "id": "90c4619c-cf53-456e-884f-5de92cbba9c8",
   "metadata": {},
   "outputs": [],
   "source": [
    "# view point cloud\n",
    "\n",
    "from mpl_toolkits.mplot3d import Axes3D\n",
    "\n",
    "fig = plt.figure(figsize = (8,8))\n",
    "ax = Axes3D(fig, auto_add_to_figure=False)\n",
    "fig.add_axes(ax)\n",
    "ax.scatter(x, y, z, s = 0.05, c=z, alpha=0.7, cmap = 'Blues')\n",
    "ax.view_init(elev=85., azim=30)\n",
    "ax.axis('off')\n",
    "plt.show()"
   ]
  },
  {
   "cell_type": "code",
   "execution_count": null,
   "id": "ed431e59-8376-4a71-8fc1-f9440a9ed9cb",
   "metadata": {},
   "outputs": [],
   "source": [
    "# compute persistent homology\n",
    "\n",
    "nb_sub_ratio = 0.02\n",
    "mean_mesr, mean_mesr_vis, wmean = compute_mean(original_set = large_points,\n",
    "                                            nb_subs = 30,\n",
    "                                            nb_sub_points = int(nb_sub_ratio * large_points.shape[0]),\n",
    "                                            max_edge_length = 0.55,\n",
    "                                            min_persistence = 0.07,\n",
    "                                            scenario = 'both'\n",
    "                                           )\n",
    "\n",
    "\n",
    "fig = plt.figure(figsize=(8, 8))\n",
    "plt.rcParams.update({'font.family':'Times New Roman', 'font.size':16})\n",
    "plt.rc('text', usetex=True)\n",
    "ax1 = fig.add_subplot(121)\n",
    "ax1.scatter(wmean[:,0], wmean[:,1], s=100, marker='o', c='red', alpha=0.8)\n",
    "ax1.plot([0,0.2], [0,0.2], linewidth=0.5)\n",
    "ax1.fill_between([0,0.2], [0,0.2], [0,0], facecolor='green', alpha=0.2)\t\n",
    "ax1.set_xlim((0,0.2))\n",
    "ax1.set_ylim((0,0.5))\n",
    "ax1.set_xticks([0,0.1,0.2])\n",
    "ax1.set_title(\"FM\")\n",
    "\n",
    "ax2 = fig.add_subplot(122)\n",
    "ax2.imshow(mean_mesr_vis.T, origin='lower', cmap='hot_r', interpolation='bilinear', aspect='auto')\n",
    "L = mean_mesr_vis.shape[0]\n",
    "ax2.set_xlim((0,L/5))\n",
    "ax2.set_ylim((0,L/2))\n",
    "ax2.set_xticks([0,5,10])\n",
    "ax2.set_xticklabels([0.0,0.1,0.2])\n",
    "ax2.set_yticks([0,5,10,15,20,25])\n",
    "ax2.set_yticklabels([0.0,0.1,0.2,0.3,0.4,0.5])\n",
    "ax2.fill_between([0,L/5], [0, L/5], [0,0], facecolor='green', alpha=0.2)\n",
    "ax2.set_title(\"MPM\")\n",
    "\n",
    "plt.show()"
   ]
  },
  {
   "cell_type": "markdown",
   "id": "f154a5e1-536e-4252-9d89-16a41128dad2",
   "metadata": {},
   "source": [
    "# Shape clustering\n",
    "\n",
    "In this section, we show how subsampling methods can be used to apply persistent homolgy to shape clustering tasks. We collect data from Mechenical Component Benchmark (https://mechanical-components.herokuapp.com/). We extract large point sets from classes 'Bearing' and 'Motor' from training sets in MCB_B. The selected point clouds in `data` consist of 30,000 to 250,000 points. It is not feasible to compute persistent homology on these data sets directly. With the help of subsampling, however, we can approximate the persistent homology of each data set and use the 2-Wasserstein distance matrix to apply dimension reduction and clustering.  "
   ]
  },
  {
   "cell_type": "code",
   "execution_count": 19,
   "id": "9f6f0906-4770-479e-a074-58344ba1b863",
   "metadata": {},
   "outputs": [],
   "source": [
    "# read data\n",
    "\n",
    "import os\n",
    "\n",
    "bearing_list = [np.load('data/Bearing/'+file) for file in os.listdir('data/Bearing/')]\n",
    "motor_list = [np.load('data/Motor/'+file) for file in os.listdir('data/Motor/')]"
   ]
  },
  {
   "cell_type": "code",
   "execution_count": null,
   "id": "fcd55a6e-8ebf-4252-9968-bac76ca1b4f8",
   "metadata": {},
   "outputs": [],
   "source": [
    "# view point cloud\n",
    "\n",
    "fig = plt.figure(figsize=(8,8)) \n",
    "ax1 = fig.add_subplot(121,projection='3d')\n",
    "points = ApproxPH.rescale_points(bearing_list[0])\n",
    "ax1.scatter3D(points[:,0], points[:,1], points[:,2], s=10, c=points[:,2])\n",
    "ax1.axis('off')\n",
    "\n",
    "ax2 = fig.add_subplot(122,projection='3d')\n",
    "points = ApproxPH.rescale_points(motor_list[0])\n",
    "ax2.scatter3D(points[:,0], points[:,1], points[:,2], s=10, c=points[:,2])\n",
    "ax2.axis('off')\n",
    "\n",
    "plt.show()"
   ]
  },
  {
   "cell_type": "code",
   "execution_count": null,
   "id": "855cfb0d-555f-497c-9ffb-0fd0439f1baa",
   "metadata": {},
   "outputs": [],
   "source": [
    "# compute persistent homology\n",
    "\n",
    "total_list = bearing_list + motor_list\n",
    "print('there are %d point sets' %len(total_list))\n",
    "\n",
    "total_fm_list = []\n",
    "total_mpm_list = []\n",
    "\n",
    "nb_sub_ratio = 0.02\n",
    "for points in total_list:\n",
    "    mean_mesr, mean_mesr_vis, wmean = compute_mean(original_set = ApproxPH.rescale_points(points),\n",
    "                                            nb_subs = 15,\n",
    "                                            nb_sub_points = int(nb_sub_ratio * points.shape[0]),\n",
    "                                            max_edge_length = 0.4,\n",
    "                                            min_persistence = 0.03,\n",
    "                                            scenario = 'both'\n",
    "                                           )\n",
    "    total_fm_list.append(wmean)\n",
    "    total_mpm_list.append(mean_mesr)"
   ]
  },
  {
   "cell_type": "code",
   "execution_count": null,
   "id": "c1a566f9-5ea1-4e78-a0dd-ab4161753d0b",
   "metadata": {
    "tags": []
   },
   "outputs": [],
   "source": [
    "# compute the wasserstein-2 distance matrix for mean persistence measures\n",
    "    \n",
    "N = len(total_list)\n",
    "grid = ApproxPH.mesh_gen()\n",
    "Mp = ApproxPH.dist_mat(grid, 2)\n",
    "mpm_distance_mat = np.zeros((N,N))\n",
    "for i in range(N):\n",
    "    for j in range(i+1,N):\n",
    "        mpm_distance_mat[i,j] = ApproxPH.wass_dist(total_mpm_list[i], total_mpm_list[j], Mp)\n",
    "\n",
    "mpm_distance_mat = mpm_distance_mat + mpm_distance_mat.T\n",
    "\n",
    "# use umap to visualize in 2D atlas\n",
    "import umap\n",
    "\n",
    "reducer = umap.UMAP(random_state=30,n_neighbors=10)\n",
    "embedding = reducer.fit_transform(mpm_distance_mat)\n",
    "\n",
    "fig = plt.figure(figsize=(10,5))\n",
    "plt.rcParams.update({'font.family':'Times New Roman', 'font.size':16})\n",
    "plt.rc('text', usetex=True)\n",
    "ax1 = fig.add_subplot(121)\n",
    "ax1.scatter(embedding[0:len(bearing_list),0],embedding[0:len(bearing_list),1],s=70,label = 'Bearing')\n",
    "ax1.scatter(embedding[len(bearing_list):,0],embedding[len(bearing_list):,1],s=70,label = 'Motor')\n",
    "ax1.set_title('UMAP for MPM')\n",
    "plt.legend()\n",
    "\n",
    "# use DBSCAN to cluster the points\n",
    "\n",
    "from sklearn.cluster import DBSCAN\n",
    "clustering = DBSCAN(eps=3, min_samples=10).fit(embedding)\n",
    "u_labels = np.unique(clustering.labels_)\n",
    "print(u_labels)\n",
    "\n",
    "ax2 = fig.add_subplot(122)\n",
    "for label in u_labels:\n",
    "    ax2.scatter(embedding[np.where(clustering.labels_==label)[0],0],\n",
    "                embedding[np.where(clustering.labels_==label)[0],1],s=70)\n",
    "ax2.set_title('DBSCAN for MPM')\n",
    "plt.show()"
   ]
  },
  {
   "cell_type": "code",
   "execution_count": null,
   "id": "f2511165-ef3a-4150-9d83-ab83eabc0c6d",
   "metadata": {},
   "outputs": [],
   "source": [
    "# compute the wasserstein-2 distance matrix for Frechet mean\n",
    "\n",
    "import gudhi as gd\n",
    "    \n",
    "fm_distance_mat = np.zeros((N,N))\n",
    "for i in range(N):\n",
    "    for j in range(i+1,N):\n",
    "        fm_distance_mat[i,j] = gd.wasserstein.wasserstein_distance(total_fm_list[i], total_fm_list[j], order=2)\n",
    "\n",
    "fm_distance_mat = fm_distance_mat + fm_distance_mat.T\n",
    "\n",
    "# use umap to visualize in 2D atlas\n",
    "\n",
    "reducer = umap.UMAP(random_state=20,n_neighbors=10)\n",
    "embedding = reducer.fit_transform(fm_distance_mat)\n",
    "\n",
    "fig = plt.figure(figsize=(10,5))\n",
    "plt.rcParams.update({'font.family':'Times New Roman', 'font.size':16})\n",
    "plt.rc('text', usetex=True)\n",
    "ax1 = fig.add_subplot(121)\n",
    "ax1.scatter(embedding[0:len(bearing_list),0],embedding[0:len(bearing_list),1],s=70,label = 'Bearing')\n",
    "ax1.scatter(embedding[len(bearing_list):,0],embedding[len(bearing_list):,1],s=70,label = 'Motor')\n",
    "ax1.set_title('UMAP for FM')\n",
    "plt.legend()\n",
    "\n",
    "# use DBSCAN to cluster the points\n",
    "\n",
    "from sklearn.cluster import DBSCAN\n",
    "clustering = DBSCAN(eps=2, min_samples=10).fit(embedding)\n",
    "u_labels = np.unique(clustering.labels_)\n",
    "print(u_labels)\n",
    "\n",
    "ax2 = fig.add_subplot(122)\n",
    "for label in u_labels:\n",
    "    ax2.scatter(embedding[np.where(clustering.labels_==label)[0],0],\n",
    "                embedding[np.where(clustering.labels_==label)[0],1],s=70)\n",
    "ax2.set_title('DBSCAN for FM')\n",
    "plt.show()"
   ]
  }
 ],
 "metadata": {
  "kernelspec": {
   "display_name": "Python 3 (ipykernel)",
   "language": "python",
   "name": "python3"
  },
  "language_info": {
   "codemirror_mode": {
    "name": "ipython",
    "version": 3
   },
   "file_extension": ".py",
   "mimetype": "text/x-python",
   "name": "python",
   "nbconvert_exporter": "python",
   "pygments_lexer": "ipython3",
   "version": "3.9.17"
  },
  "toc-autonumbering": true,
  "varInspector": {
   "cols": {
    "lenName": 16,
    "lenType": 16,
    "lenVar": 40
   },
   "kernels_config": {
    "python": {
     "delete_cmd_postfix": "",
     "delete_cmd_prefix": "del ",
     "library": "var_list.py",
     "varRefreshCmd": "print(var_dic_list())"
    },
    "r": {
     "delete_cmd_postfix": ") ",
     "delete_cmd_prefix": "rm(",
     "library": "var_list.r",
     "varRefreshCmd": "cat(var_dic_list()) "
    }
   },
   "types_to_exclude": [
    "module",
    "function",
    "builtin_function_or_method",
    "instance",
    "_Feature"
   ],
   "window_display": false
  }
 },
 "nbformat": 4,
 "nbformat_minor": 5
}
